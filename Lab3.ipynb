{
  "nbformat": 4,
  "nbformat_minor": 0,
  "metadata": {
    "colab": {
      "name": "Lab3.ipynb",
      "provenance": [],
      "collapsed_sections": []
    },
    "kernelspec": {
      "name": "python3",
      "display_name": "Python 3"
    },
    "language_info": {
      "name": "python"
    }
  },
  "cells": [
    {
      "cell_type": "code",
      "metadata": {
        "id": "bAhnD1xbDuyo"
      },
      "source": [
        "Sometimes, while working with Pythonn strings, we can have a problem in which we need to perform\n",
        "the slice and print of strings in reverse order. This can have application in day-day programming.\n",
        "So in this exercise write a program that reverse the string in incremental order.\n",
        "For Example:\n",
        "Orignal String : GIFT\n",
        "Incremental reverse strings: ['T','TF','TFI','TFIG']\n",
        "\n",
        "15"
      ],
      "execution_count": null,
      "outputs": []
    },
    {
      "cell_type": "code",
      "metadata": {
        "colab": {
          "base_uri": "https://localhost:8080/"
        },
        "id": "3RILNBGUEGf7",
        "outputId": "940206a5-0649-4791-c623-506fe62f1364"
      },
      "source": [
        "string=\"Gift\"\n",
        "res=[]\n",
        "sub=\"\"\n",
        "\n",
        "for char in reversed(string):\n",
        "  sub+=char\n",
        "  res.append(sub)\n",
        "print(\"Incremental string is :\" ,  str(res))  \n"
      ],
      "execution_count": 1,
      "outputs": [
        {
          "output_type": "stream",
          "text": [
            "Incremental string is : ['t', 'tf', 'tfi', 'tfiG']\n"
          ],
          "name": "stdout"
        }
      ]
    },
    {
      "cell_type": "code",
      "metadata": {
        "id": "xbaHUr4BER2C"
      },
      "source": [
        "Write a program with a function that accepts a string as an argument and returns a copy of the\n",
        "string with the first character of each sentence capitalized. For instance, if the argument is “hello.\n",
        "my name is Joe. what is your name?” the function should return the string “Hello. My name is\n",
        "Joe. What is your name?” The program should let the user enter a string and then pass it to the\n",
        "function. The modified string should be displayed."
      ],
      "execution_count": null,
      "outputs": []
    },
    {
      "cell_type": "code",
      "metadata": {
        "colab": {
          "base_uri": "https://localhost:8080/"
        },
        "id": "6bwdS65fEW3H",
        "outputId": "45cf383d-1c53-4393-826c-c4bd31e50dd1"
      },
      "source": [
        "def sentenceCapitalizer (string1: str):\n",
        "    w = string1.split(\". \")\n",
        "    w2=[word[0].capitalize() + word[1:] for word in w]\n",
        "    string2='. '.join(w2)\n",
        "    return string2\n",
        "    return (string2)\n",
        "\n",
        "print (sentenceCapitalizer(\"hello. my name is Joe. what is your name?\"))\n",
        "\n"
      ],
      "execution_count": 2,
      "outputs": [
        {
          "output_type": "stream",
          "text": [
            "Hello. My name is Joe. What is your name?\n"
          ],
          "name": "stdout"
        }
      ]
    },
    {
      "cell_type": "code",
      "metadata": {
        "id": "6FjMjMMEEc9e"
      },
      "source": [
        "Write a program that accepts a sentence as input and converts each word to “Pig Latin.” In one\n",
        "version, to convert a word to Pig Latin you remove the first letter and place that letter at the end\n",
        "of the word. Then you append the string “ay” to the word. Here is an example:\n",
        "English: I SLEPT MOST OF THE NIGHT\n",
        "Pig Latin: IAY LEPTSAY OSTMAY FOAY HETAY IGHTNAY"
      ],
      "execution_count": null,
      "outputs": []
    },
    {
      "cell_type": "code",
      "metadata": {
        "colab": {
          "base_uri": "https://localhost:8080/"
        },
        "id": "aZ5ACCiAEiuw",
        "outputId": "a1ea4a95-4dda-4d87-df0e-24eb18bd7508"
      },
      "source": [
        "def main():\n",
        "    words = str(input(\"Input Sentence:\")).split()\n",
        "    for word in words:\n",
        "        print(word[1:] + word[0] + \"ay\", end = \" \")\n",
        "    print ()\n",
        "\n",
        "main()"
      ],
      "execution_count": 3,
      "outputs": [
        {
          "output_type": "stream",
          "text": [
            "Input Sentence:welcome to lab\n",
            "elcomeway otay ablay \n"
          ],
          "name": "stdout"
        }
      ]
    }
  ]
}